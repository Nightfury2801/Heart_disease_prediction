{
 "cells": [
  {
   "cell_type": "markdown",
   "metadata": {},
   "source": [
    "## Evaluation of Classification Methods"
   ]
  },
  {
   "cell_type": "markdown",
   "metadata": {},
   "source": [
    "**How to Evaluate a Classification Method?** <br>\n",
    "- **Predictive accuracy**\n",
    "- **Efficiency**\n",
    "    * Time to construct the model\n",
    "    * Time to use the model\n",
    "- **Robustness -** ability to handle noise and missing values\n",
    "- **Scalability -** efficiency in dis-resident databases\n",
    "- **Interpretability -** easily understandable insight provided by model\n",
    "- **Compactness -** e.g. size of the tree or number of rules"
   ]
  },
  {
   "cell_type": "markdown",
   "metadata": {},
   "source": [
    "## Loading libraries and modules"
   ]
  },
  {
   "cell_type": "code",
   "execution_count": 17,
   "metadata": {},
   "outputs": [],
   "source": [
    "%matplotlib inline\n",
    "import numpy as np\n",
    "import pandas as pd\n",
    "# from matplotlib.pyplot import figure, show\n",
    "# from numpy import arange\n",
    "from sklearn import metrics\n",
    "# from sklearn.metrics import confusion_matrix\n",
    "import matplotlib.pyplot as plt"
   ]
  },
  {
   "cell_type": "markdown",
   "metadata": {},
   "source": [
    "## Sample Data Sets\n",
    "This section defines 3 data sets that will be used. \n",
    "- Only the expected outcomes ($y$) and the actual outputs ($\\hat{y}$) are given. \n",
    "- No $x$ values are given for simplicity. \n",
    "\n",
    "This code could be used to evaluate the output and expected values for most model types."
   ]
  },
  {
   "cell_type": "markdown",
   "metadata": {},
   "source": [
    "### Binary Classification\n",
    "Binary classification is a type of classification where there are only 2 possible outcomes, typically:\n",
    "* true and false, or \n",
    "* positive and negative. \n",
    "\n",
    "The data below shows the labels for $y$ as being either 0 or 1. \n",
    "- The predicted $\\hat{y}$ values are probabilities predicted for how likely the output value should be true or 1. \n",
    "- `Higher values mean the model predicts a greater likelihood of the value being 1 or True`."
   ]
  },
  {
   "cell_type": "code",
   "execution_count": 18,
   "metadata": {},
   "outputs": [
    {
     "data": {
      "text/html": [
       "<div>\n",
       "<style scoped>\n",
       "    .dataframe tbody tr th:only-of-type {\n",
       "        vertical-align: middle;\n",
       "    }\n",
       "\n",
       "    .dataframe tbody tr th {\n",
       "        vertical-align: top;\n",
       "    }\n",
       "\n",
       "    .dataframe thead th {\n",
       "        text-align: right;\n",
       "    }\n",
       "</style>\n",
       "<table border=\"1\" class=\"dataframe\">\n",
       "  <thead>\n",
       "    <tr style=\"text-align: right;\">\n",
       "      <th></th>\n",
       "      <th>y</th>\n",
       "      <th>yhat</th>\n",
       "    </tr>\n",
       "  </thead>\n",
       "  <tbody>\n",
       "    <tr>\n",
       "      <th>0</th>\n",
       "      <td>1</td>\n",
       "      <td>0.95</td>\n",
       "    </tr>\n",
       "    <tr>\n",
       "      <th>1</th>\n",
       "      <td>0</td>\n",
       "      <td>0.10</td>\n",
       "    </tr>\n",
       "    <tr>\n",
       "      <th>2</th>\n",
       "      <td>1</td>\n",
       "      <td>0.10</td>\n",
       "    </tr>\n",
       "    <tr>\n",
       "      <th>3</th>\n",
       "      <td>1</td>\n",
       "      <td>0.99</td>\n",
       "    </tr>\n",
       "    <tr>\n",
       "      <th>4</th>\n",
       "      <td>0</td>\n",
       "      <td>0.98</td>\n",
       "    </tr>\n",
       "    <tr>\n",
       "      <th>5</th>\n",
       "      <td>0</td>\n",
       "      <td>0.01</td>\n",
       "    </tr>\n",
       "    <tr>\n",
       "      <th>6</th>\n",
       "      <td>1</td>\n",
       "      <td>0.02</td>\n",
       "    </tr>\n",
       "    <tr>\n",
       "      <th>7</th>\n",
       "      <td>0</td>\n",
       "      <td>0.01</td>\n",
       "    </tr>\n",
       "    <tr>\n",
       "      <th>8</th>\n",
       "      <td>0</td>\n",
       "      <td>0.01</td>\n",
       "    </tr>\n",
       "    <tr>\n",
       "      <th>9</th>\n",
       "      <td>1</td>\n",
       "      <td>0.97</td>\n",
       "    </tr>\n",
       "    <tr>\n",
       "      <th>10</th>\n",
       "      <td>0</td>\n",
       "      <td>0.05</td>\n",
       "    </tr>\n",
       "  </tbody>\n",
       "</table>\n",
       "</div>"
      ],
      "text/plain": [
       "    y  yhat\n",
       "0   1  0.95\n",
       "1   0  0.10\n",
       "2   1  0.10\n",
       "3   1  0.99\n",
       "4   0  0.98\n",
       "5   0  0.01\n",
       "6   1  0.02\n",
       "7   0  0.01\n",
       "8   0  0.01\n",
       "9   1  0.97\n",
       "10  0  0.05"
      ]
     },
     "execution_count": 18,
     "metadata": {},
     "output_type": "execute_result"
    }
   ],
   "source": [
    "# Binary Classification\n",
    "binary_classification_y    = [ 1,    0,   1,   1,    0,    0,    1,    0,    0,    1,   0]\n",
    "binary_classification_yhat = [ 0.95, 0.1, 0.1, 0.99, 0.98, 0.01, 0.02, 0.01, 0.01, .97, 0.05]\n",
    "binary_classification = pd.DataFrame({'y': binary_classification_y, 'yhat': binary_classification_yhat})\n",
    "binary_classification"
   ]
  },
  {
   "cell_type": "markdown",
   "metadata": {},
   "source": [
    "### Multi-Class Classification\n",
    "Multi-class classification is a type of classification where there are `two or more possible outcomes`. \n",
    "- The data below shows the labels for $y$ as having a numeric class ID. Though data might have class labels as strings it will be converted to this numeric ID. \n",
    "- The predicted $\\hat{y}$ values are probabilities predicted for how likely the output value should match for each of the classes. \n",
    "- All class probabilities should sum to 1.0."
   ]
  },
  {
   "cell_type": "code",
   "execution_count": 19,
   "metadata": {},
   "outputs": [
    {
     "data": {
      "text/html": [
       "<div>\n",
       "<style scoped>\n",
       "    .dataframe tbody tr th:only-of-type {\n",
       "        vertical-align: middle;\n",
       "    }\n",
       "\n",
       "    .dataframe tbody tr th {\n",
       "        vertical-align: top;\n",
       "    }\n",
       "\n",
       "    .dataframe thead th {\n",
       "        text-align: right;\n",
       "    }\n",
       "</style>\n",
       "<table border=\"1\" class=\"dataframe\">\n",
       "  <thead>\n",
       "    <tr style=\"text-align: right;\">\n",
       "      <th></th>\n",
       "      <th>yhat</th>\n",
       "      <th>yhat_0</th>\n",
       "      <th>yhat_1</th>\n",
       "      <th>yhat_2</th>\n",
       "      <th>yhat_3</th>\n",
       "    </tr>\n",
       "  </thead>\n",
       "  <tbody>\n",
       "    <tr>\n",
       "      <th>0</th>\n",
       "      <td>1</td>\n",
       "      <td>0.05</td>\n",
       "      <td>0.00</td>\n",
       "      <td>0.90</td>\n",
       "      <td>0.05</td>\n",
       "    </tr>\n",
       "    <tr>\n",
       "      <th>1</th>\n",
       "      <td>2</td>\n",
       "      <td>0.00</td>\n",
       "      <td>0.01</td>\n",
       "      <td>0.99</td>\n",
       "      <td>0.00</td>\n",
       "    </tr>\n",
       "    <tr>\n",
       "      <th>2</th>\n",
       "      <td>3</td>\n",
       "      <td>0.02</td>\n",
       "      <td>0.00</td>\n",
       "      <td>0.03</td>\n",
       "      <td>0.95</td>\n",
       "    </tr>\n",
       "    <tr>\n",
       "      <th>3</th>\n",
       "      <td>1</td>\n",
       "      <td>0.95</td>\n",
       "      <td>0.03</td>\n",
       "      <td>0.02</td>\n",
       "      <td>0.00</td>\n",
       "    </tr>\n",
       "    <tr>\n",
       "      <th>4</th>\n",
       "      <td>1</td>\n",
       "      <td>0.02</td>\n",
       "      <td>0.94</td>\n",
       "      <td>0.01</td>\n",
       "      <td>0.03</td>\n",
       "    </tr>\n",
       "    <tr>\n",
       "      <th>5</th>\n",
       "      <td>2</td>\n",
       "      <td>0.00</td>\n",
       "      <td>0.00</td>\n",
       "      <td>0.93</td>\n",
       "      <td>0.07</td>\n",
       "    </tr>\n",
       "    <tr>\n",
       "      <th>6</th>\n",
       "      <td>2</td>\n",
       "      <td>0.00</td>\n",
       "      <td>0.20</td>\n",
       "      <td>0.80</td>\n",
       "      <td>0.00</td>\n",
       "    </tr>\n",
       "    <tr>\n",
       "      <th>7</th>\n",
       "      <td>3</td>\n",
       "      <td>0.02</td>\n",
       "      <td>0.02</td>\n",
       "      <td>0.01</td>\n",
       "      <td>0.95</td>\n",
       "    </tr>\n",
       "    <tr>\n",
       "      <th>8</th>\n",
       "      <td>0</td>\n",
       "      <td>0.96</td>\n",
       "      <td>0.04</td>\n",
       "      <td>0.00</td>\n",
       "      <td>0.00</td>\n",
       "    </tr>\n",
       "    <tr>\n",
       "      <th>9</th>\n",
       "      <td>0</td>\n",
       "      <td>0.97</td>\n",
       "      <td>0.01</td>\n",
       "      <td>0.01</td>\n",
       "      <td>0.01</td>\n",
       "    </tr>\n",
       "    <tr>\n",
       "      <th>10</th>\n",
       "      <td>0</td>\n",
       "      <td>0.98</td>\n",
       "      <td>0.00</td>\n",
       "      <td>0.00</td>\n",
       "      <td>0.02</td>\n",
       "    </tr>\n",
       "  </tbody>\n",
       "</table>\n",
       "</div>"
      ],
      "text/plain": [
       "    yhat  yhat_0  yhat_1  yhat_2  yhat_3\n",
       "0      1    0.05    0.00    0.90    0.05\n",
       "1      2    0.00    0.01    0.99    0.00\n",
       "2      3    0.02    0.00    0.03    0.95\n",
       "3      1    0.95    0.03    0.02    0.00\n",
       "4      1    0.02    0.94    0.01    0.03\n",
       "5      2    0.00    0.00    0.93    0.07\n",
       "6      2    0.00    0.20    0.80    0.00\n",
       "7      3    0.02    0.02    0.01    0.95\n",
       "8      0    0.96    0.04    0.00    0.00\n",
       "9      0    0.97    0.01    0.01    0.01\n",
       "10     0    0.98    0.00    0.00    0.02"
      ]
     },
     "execution_count": 19,
     "metadata": {},
     "output_type": "execute_result"
    }
   ],
   "source": [
    "# Multi-class Classification (in this case, 4-class)\n",
    "multiclass_classification_y    = [ 1, 2, 3, 1, 1, 2, 2, 3, 0, 0, 0]\n",
    "multiclass_classification_yhat = [ \n",
    "                                    [0.05, 0.00, 0.90, 0.05],\n",
    "                                    [0.00, 0.01, 0.99, 0.00],\n",
    "                                    [0.02, 0.00, 0.03, 0.95],\n",
    "                                    [0.95, 0.03, 0.02, 0.00],\n",
    "                                    [0.02, 0.94, 0.01, 0.03],\n",
    "                                    [0.00, 0.00, 0.93, 0.07],\n",
    "                                    [0.00, 0.20, 0.80, 0.00],\n",
    "                                    [0.02, 0.02, 0.01, 0.95],\n",
    "                                    [0.96, 0.04, 0.00, 0.00],\n",
    "                                    [0.97, 0.01, 0.01, 0.01],\n",
    "                                    [0.98, 0.00, 0.00, 0.02]\n",
    "                                 ]\n",
    "multiclass_classification = pd.DataFrame(multiclass_classification_yhat)\n",
    "multiclass_classification.insert(loc = 0, column = 'yhat', value = multiclass_classification_y)\n",
    "multiclass_classification.columns = ['yhat', 'yhat_0', 'yhat_1', 'yhat_2', 'yhat_3']\n",
    "multiclass_classification"
   ]
  },
  {
   "cell_type": "code",
   "execution_count": 20,
   "metadata": {},
   "outputs": [
    {
     "data": {
      "text/plain": [
       "[1.0, 1.0, 1.0, 1.0, 1.0, 1.0, 1.0, 1.0, 1.0, 1.0, 1.0]"
      ]
     },
     "execution_count": 20,
     "metadata": {},
     "output_type": "execute_result"
    }
   ],
   "source": [
    "# All should sum up to 1.0\n",
    "(multiclass_classification['yhat_0'] + multiclass_classification['yhat_1'] +\n",
    "         multiclass_classification['yhat_2'] + multiclass_classification['yhat_3']).tolist()"
   ]
  },
  {
   "cell_type": "markdown",
   "metadata": {},
   "source": [
    "### Regression Data"
   ]
  },
  {
   "cell_type": "markdown",
   "metadata": {},
   "source": [
    "Regression data is used when you wish to predict a number. The data below shows the expected values for $y$ as a floating point number. The predicted $\\hat{y}$ should match the $y$ values as close as possible."
   ]
  },
  {
   "cell_type": "code",
   "execution_count": 21,
   "metadata": {},
   "outputs": [
    {
     "data": {
      "text/html": [
       "<div>\n",
       "<style scoped>\n",
       "    .dataframe tbody tr th:only-of-type {\n",
       "        vertical-align: middle;\n",
       "    }\n",
       "\n",
       "    .dataframe tbody tr th {\n",
       "        vertical-align: top;\n",
       "    }\n",
       "\n",
       "    .dataframe thead th {\n",
       "        text-align: right;\n",
       "    }\n",
       "</style>\n",
       "<table border=\"1\" class=\"dataframe\">\n",
       "  <thead>\n",
       "    <tr style=\"text-align: right;\">\n",
       "      <th></th>\n",
       "      <th>y</th>\n",
       "      <th>yhat</th>\n",
       "    </tr>\n",
       "  </thead>\n",
       "  <tbody>\n",
       "    <tr>\n",
       "      <th>0</th>\n",
       "      <td>1.20</td>\n",
       "      <td>1.30</td>\n",
       "    </tr>\n",
       "    <tr>\n",
       "      <th>1</th>\n",
       "      <td>2.20</td>\n",
       "      <td>2.90</td>\n",
       "    </tr>\n",
       "    <tr>\n",
       "      <th>2</th>\n",
       "      <td>3.00</td>\n",
       "      <td>3.10</td>\n",
       "    </tr>\n",
       "    <tr>\n",
       "      <th>3</th>\n",
       "      <td>2.10</td>\n",
       "      <td>2.20</td>\n",
       "    </tr>\n",
       "    <tr>\n",
       "      <th>4</th>\n",
       "      <td>3.50</td>\n",
       "      <td>3.50</td>\n",
       "    </tr>\n",
       "    <tr>\n",
       "      <th>5</th>\n",
       "      <td>3.30</td>\n",
       "      <td>3.30</td>\n",
       "    </tr>\n",
       "    <tr>\n",
       "      <th>6</th>\n",
       "      <td>1.20</td>\n",
       "      <td>1.10</td>\n",
       "    </tr>\n",
       "    <tr>\n",
       "      <th>7</th>\n",
       "      <td>1.20</td>\n",
       "      <td>1.30</td>\n",
       "    </tr>\n",
       "    <tr>\n",
       "      <th>8</th>\n",
       "      <td>0.10</td>\n",
       "      <td>7.20</td>\n",
       "    </tr>\n",
       "    <tr>\n",
       "      <th>9</th>\n",
       "      <td>1.00</td>\n",
       "      <td>1.00</td>\n",
       "    </tr>\n",
       "    <tr>\n",
       "      <th>10</th>\n",
       "      <td>0.05</td>\n",
       "      <td>0.07</td>\n",
       "    </tr>\n",
       "  </tbody>\n",
       "</table>\n",
       "</div>"
      ],
      "text/plain": [
       "       y  yhat\n",
       "0   1.20  1.30\n",
       "1   2.20  2.90\n",
       "2   3.00  3.10\n",
       "3   2.10  2.20\n",
       "4   3.50  3.50\n",
       "5   3.30  3.30\n",
       "6   1.20  1.10\n",
       "7   1.20  1.30\n",
       "8   0.10  7.20\n",
       "9   1.00  1.00\n",
       "10  0.05  0.07"
      ]
     },
     "execution_count": 21,
     "metadata": {},
     "output_type": "execute_result"
    }
   ],
   "source": [
    "# Regression\n",
    "regression_y    = [ 1.2, 2.2, 3.0, 2.1, 3.5, 3.3, 1.2, 1.2, 0.1, 1, 0.05]\n",
    "regression_yhat = [ 1.3, 2.9, 3.1, 2.2, 3.5, 3.3, 1.1, 1.3, 7.2, 1, 0.07]\n",
    "regression = pd.DataFrame({'y': regression_y, 'yhat': regression_yhat})\n",
    "regression"
   ]
  },
  {
   "cell_type": "markdown",
   "metadata": {},
   "source": [
    "## Accuracy, Precision, Recall & F1-Score\n",
    "These metrics are closely related. So we'll make use of binary and multi-class data. Binary is covered first. \n",
    "- When binary data are used a `threshold value` must be used. \n",
    "- Any score from the model `above` the threshold will be `positive/true` and `below` will be `negative/false`. \n",
    "- The scores are affected greatly by this choice of threshold. \n",
    "\n",
    "Other metrics, such as AUC/ROC, evaluate the model independent of threshold."
   ]
  },
  {
   "cell_type": "code",
   "execution_count": 22,
   "metadata": {},
   "outputs": [
    {
     "name": "stdout",
     "output_type": "stream",
     "text": [
      "binary_classification_y: [1, 0, 1, 1, 0, 0, 1, 0, 0, 1, 0]\n",
      "binary_classification_yhat: [0.95, 0.1, 0.1, 0.99, 0.98, 0.01, 0.02, 0.01, 0.01, 0.97, 0.05]\n",
      "y: [1 0 1 1 0 0 1 0 0 1 0]\n",
      "yhat: [1 0 0 1 1 0 0 0 0 1 0]\n"
     ]
    }
   ],
   "source": [
    "THRESHOLD = 0.5\n",
    "\n",
    "y = np.array(binary_classification_y)\n",
    "y_hat = np.array([(1 if item >= THRESHOLD else 0) for item in binary_classification_yhat])\n",
    "\n",
    "print(f'binary_classification_y: {binary_classification_y}')\n",
    "print(f'binary_classification_yhat: {binary_classification_yhat}')\n",
    "print(f'y: {y}')\n",
    "print(f'yhat: {y_hat}')"
   ]
  },
  {
   "cell_type": "markdown",
   "metadata": {},
   "source": [
    "### False or True Positives and Negatives\n",
    "True positives, false positives, true negatives and false negatives must all be calculated to get their associated rates. These rates are used to calculate accuracy and the F1 score."
   ]
  },
  {
   "cell_type": "code",
   "execution_count": 23,
   "metadata": {},
   "outputs": [
    {
     "name": "stdout",
     "output_type": "stream",
     "text": [
      "Positive count: 5\n",
      "Negatice count: 6\n",
      "Count: 11\n",
      "True Positive (TP, sensativity): 3 (60%)\n",
      "True Negative (TN, specificity): 5 (83%)\n",
      "False Positive (FP): 1 (16%)\n",
      "False Negative (FN): 2 (40%)\n"
     ]
    }
   ],
   "source": [
    "count_pos = sum(y==1)\n",
    "count_neg = sum(y==0)\n",
    "count = len(y)\n",
    "print(f'Positive count: {count_pos}')\n",
    "print(f'Negatice count: {count_neg}')\n",
    "tp = sum(np.logical_and(y==1, y_hat==1))\n",
    "tp_rate = float(tp)/count_pos\n",
    "tn = sum(np.logical_and(y==0, y_hat==0))\n",
    "tn_rate = float(tn)/count_neg\n",
    "fp = sum(np.logical_and(y==0, y_hat==1))\n",
    "fp_rate = float(fp)/count_neg\n",
    "fn = sum(np.logical_and(y==1, y_hat==0))\n",
    "fn_rate = float(fn)/count_pos\n",
    "\n",
    "print(f'Count: {count}')\n",
    "print(f'True Positive (TP, sensativity): {tp} ({int(tp_rate*100)}%)')\n",
    "print(f'True Negative (TN, specificity): {tn} ({int(tn_rate*100)}%)')\n",
    "print(f'False Positive (FP): {fp} ({int(fp_rate*100)}%)')\n",
    "print(f'False Negative (FN): {fn} ({int(fn_rate*100)}%)')"
   ]
  },
  {
   "cell_type": "markdown",
   "metadata": {},
   "source": [
    "### Accuracy\n",
    "Accuracy is much like a test score - `What percent were correct`. \n",
    "- Accuracy does not penalize a model for overconfidence in wrong answers or under-confidence in correct ones. \n",
    "- Accuracy ranges from `0% to 100%`. \n",
    "- `Higher is better`."
   ]
  },
  {
   "cell_type": "code",
   "execution_count": 24,
   "metadata": {},
   "outputs": [
    {
     "name": "stdout",
     "output_type": "stream",
     "text": [
      "Accuarcy (manual): 0.7272727272727273\n",
      "Accuarcy (from sklearn import metrics): 0.7272727272727273\n"
     ]
    }
   ],
   "source": [
    "ac1 = (tp + tn) / count\n",
    "ac2 = metrics.accuracy_score(y, y_hat)\n",
    "print(f\"Accuarcy (manual): {ac1}\")\n",
    "print(f\"Accuarcy (from sklearn import metrics): {ac2}\")"
   ]
  },
  {
   "cell_type": "markdown",
   "metadata": {},
   "source": [
    "### Precision, Recall & F1-Score"
   ]
  },
  {
   "cell_type": "markdown",
   "metadata": {},
   "source": [
    "`Recall` (aka <b>sensitivity</b>) and `Precision` (aka <b>positive predictive value</b>) are measurements used both for analysis and calculation of the more holistic F1 score. \n",
    "- Precision is \"`how useful the results are`\", and \n",
    "- Recall is \"`how complete the results are`\". \n",
    "\n",
    "> Higher values are better for precision, \n",
    "> recall and F1 and they range from 0 to 1. \n",
    "\n",
    "<b>F1 is a measure of accuracy that takes into account both false positives and false negatives.</b>\n",
    "\n",
    "$\\mathrm{recall}=\\frac{\\mathrm{TP}}{\\mathrm{TP}+\\mathrm{FN}}$\n",
    "\n",
    "$\\mathrm{precision}=\\frac{\\mathrm{TP}}{\\mathrm{TP}+\\mathrm{FP}}$\n",
    "\n",
    "$F_1 = \\left(\\frac{\\mathrm{recall}^{-1} + \\mathrm{precision}^{-1}}{2}\\right)^{-1} = 2 \\cdot \\frac{\\mathrm{precision} \\cdot \\mathrm{recall}}{\\mathrm{precision} + \\mathrm{recall}}$"
   ]
  },
  {
   "cell_type": "code",
   "execution_count": 29,
   "metadata": {},
   "outputs": [
    {
     "name": "stdout",
     "output_type": "stream",
     "text": [
      "recall (manual): 0.6\n",
      "recall (sklearn): 0.6\n",
      "precision (manual): 0.75\n",
      "precision (sklearn): 0.75\n",
      "f1 (manual): 0.6666666666666665\n",
      "f1 (sklearn): 0.6666666666666665\n"
     ]
    }
   ],
   "source": [
    "precision = tp / (tp + fp)\n",
    "precision_sklearn = metrics.precision_score(y, y_hat)\n",
    "\n",
    "recall = tp / (tp + fn)\n",
    "recall_sklearn = metrics.recall_score(y, y_hat)\n",
    "\n",
    "f1 = 2 * (precision * recall) / (precision + recall)\n",
    "f1_sklearn = metrics.f1_score(y, y_hat)\n",
    "\n",
    "print(f\"recall (manual): {recall}\")\n",
    "print(f\"recall (sklearn): {recall_sklearn}\")\n",
    "print(f\"precision (manual): {precision}\")\n",
    "print(f\"precision (sklearn): {precision_sklearn}\")\n",
    "print(f\"f1 (manual): {f1}\")\n",
    "print(f\"f1 (sklearn): {f1b}\")"
   ]
  },
  {
   "cell_type": "markdown",
   "metadata": {},
   "source": [
    "### Confusion Matrix\n",
    "A confusion matrix tracks `which classes are often misclassified for other classes`. \n",
    "- A strong model will have a dark diagonal from NW to SE."
   ]
  },
  {
   "cell_type": "code",
   "execution_count": 21,
   "metadata": {},
   "outputs": [],
   "source": [
    "# Plot a confusion matrix.\n",
    "# cm is the confusion matrix, names are the names of the classes.\n",
    "def plot_confusion_matrix(cm, names, title = 'Confusion matrix', cmap = plt.cm.Blues):\n",
    "    # plt.imshow displays the image on the axes, but if you need to \n",
    "    # display multiple images you use show() to finish the figure.\n",
    "    # interpolation = 'none': works well when a big image is scaled down\n",
    "    # interpolation = 'nearest': works well when a small image is scaled up\n",
    "    # cmap: The registered colormap name used to map scalar data to colors.\n",
    "    plt.imshow(cm, interpolation='nearest', cmap = cmap)\n",
    "    plt.title(title)\n",
    "    plt.colorbar()\n",
    "    tick_marks = np.arange(len(names))\n",
    "    plt.xticks(tick_marks, names, rotation = 45)\n",
    "    plt.yticks(tick_marks, names)\n",
    "    # Automatically adjust subplot parameters to give specified padding.\n",
    "    plt.tight_layout()\n",
    "    plt.ylabel('True label')\n",
    "    plt.xlabel('Predicted label')"
   ]
  },
  {
   "cell_type": "code",
   "execution_count": 22,
   "metadata": {},
   "outputs": [
    {
     "name": "stdout",
     "output_type": "stream",
     "text": [
      "Confusion matrix, without normalization\n",
      "[[5 1]\n",
      " [2 3]]\n",
      "Normalized confusion matrix\n",
      "[[0.83 0.17]\n",
      " [0.4  0.6 ]]\n"
     ]
    },
    {
     "data": {
      "image/png": "[encoded data removed]",
      "text/plain": [
       "<Figure size 432x288 with 2 Axes>"
      ]
     },
     "metadata": {
      "needs_background": "light"
     },
     "output_type": "display_data"
    },
    {
     "data": {
      "image/png": "[encoded data removed]",
      "text/plain": [
       "<Figure size 432x288 with 2 Axes>"
      ]
     },
     "metadata": {
      "needs_background": "light"
     },
     "output_type": "display_data"
    }
   ],
   "source": [
    "labels = ['T', 'F']\n",
    "\n",
    "# Compute confusion matrix\n",
    "cm = confusion_matrix(y, y_hat)\n",
    "np.set_printoptions(precision = 2)\n",
    "print('Confusion matrix, without normalization')\n",
    "print(cm)\n",
    "plt.figure()\n",
    "plot_confusion_matrix(cm, labels)\n",
    "\n",
    "# Normalize the confusion matrix by row \n",
    "# (i.e. by the number of samples in each class)\n",
    "cm_normalized = cm.astype('float') / cm.sum(axis = 1)[:, np.newaxis]\n",
    "print('Normalized confusion matrix')\n",
    "print(cm_normalized)\n",
    "plt.figure()\n",
    "plot_confusion_matrix(cm_normalized, labels, title = 'Normalized confusion matrix')\n",
    "\n",
    "plt.show()"
   ]
  },
  {
   "cell_type": "code",
   "execution_count": 23,
   "metadata": {},
   "outputs": [
    {
     "name": "stdout",
     "output_type": "stream",
     "text": [
      "y: [1, 2, 3, 1, 1, 2, 2, 3, 0, 0, 0]\n",
      "yhat: [2 2 3 0 1 2 2 3 0 0 0]\n"
     ]
    }
   ],
   "source": [
    "y = multiclass_classification_y\n",
    "y_hat = np.argmax(multiclass_classification_yhat, axis = 1)\n",
    "\n",
    "print(f'y: {y}')\n",
    "print(f'yhat: {y_hat}')"
   ]
  },
  {
   "cell_type": "code",
   "execution_count": 24,
   "metadata": {},
   "outputs": [
    {
     "name": "stdout",
     "output_type": "stream",
     "text": [
      "Accuarcy: 0.8181818181818182\n",
      "F1: [0.86 0.5  0.86 1.  ]\n"
     ]
    }
   ],
   "source": [
    "ac = metrics.accuracy_score(y, y_hat)\n",
    "# average = None: scores for each class are returned\n",
    "f1 = metrics.f1_score(y, y_hat, average = None)\n",
    "print(f\"Accuarcy: {ac}\")\n",
    "print(f\"F1: {f1}\")"
   ]
  },
  {
   "cell_type": "code",
   "execution_count": 25,
   "metadata": {},
   "outputs": [
    {
     "name": "stdout",
     "output_type": "stream",
     "text": [
      "Confusion matrix, without normalization\n",
      "[[3 0 0 0]\n",
      " [1 1 1 0]\n",
      " [0 0 3 0]\n",
      " [0 0 0 2]]\n",
      "Normalized confusion matrix\n",
      "[[1.   0.   0.   0.  ]\n",
      " [0.33 0.33 0.33 0.  ]\n",
      " [0.   0.   1.   0.  ]\n",
      " [0.   0.   0.   1.  ]]\n"
     ]
    },
    {
     "data": {
      "image/png": "[encoded data removed]",
      "text/plain": [
       "<Figure size 432x288 with 2 Axes>"
      ]
     },
     "metadata": {
      "needs_background": "light"
     },
     "output_type": "display_data"
    },
    {
     "data": {
      "image/png": "[encoded data removed]",
      "text/plain": [
       "<Figure size 432x288 with 2 Axes>"
      ]
     },
     "metadata": {
      "needs_background": "light"
     },
     "output_type": "display_data"
    }
   ],
   "source": [
    "labels = ['0', '1', '2', '3']\n",
    "\n",
    "# Compute confusion matrix\n",
    "cm = confusion_matrix(y, y_hat)\n",
    "np.set_printoptions(precision = 2)\n",
    "print('Confusion matrix, without normalization')\n",
    "print(cm)\n",
    "plt.figure()\n",
    "plot_confusion_matrix(cm, labels)\n",
    "\n",
    "# Normalize the confusion matrix by row (i.e by the number of samples\n",
    "# in each class)\n",
    "cm_normalized = cm.astype('float') / cm.sum(axis = 1)[:, np.newaxis]\n",
    "print('Normalized confusion matrix')\n",
    "print(cm_normalized)\n",
    "plt.figure()\n",
    "plot_confusion_matrix(cm_normalized, labels, title='Normalized confusion matrix')\n",
    "\n",
    "plt.show()"
   ]
  },
  {
   "cell_type": "markdown",
   "metadata": {},
   "source": [
    "## Area Under the Curve (AUC)\n",
    "Area Under the Curve (AUC) is closely related to the (Receiver Operating Characteristic) ROC chart. Both will make use of the binary classification data."
   ]
  },
  {
   "cell_type": "code",
   "execution_count": 26,
   "metadata": {},
   "outputs": [
    {
     "name": "stdout",
     "output_type": "stream",
     "text": [
      "y = [1 0 1 1 0 0 1 0 0 1 0]\n",
      "y_hat = [0.95 0.1  0.1  0.99 0.98 0.01 0.02 0.01 0.01 0.97 0.05]\n"
     ]
    }
   ],
   "source": [
    "y = np.array(binary_classification_y)\n",
    "y_hat = np.array(binary_classification_yhat)\n",
    "print (f\"y = {y}\")\n",
    "print (f\"y_hat = {y_hat}\")"
   ]
  },
  {
   "cell_type": "code",
   "execution_count": 28,
   "metadata": {},
   "outputs": [
    {
     "name": "stdout",
     "output_type": "stream",
     "text": [
      "Y: [1 0 1 1 0 0 1 0 0 1 0]\n",
      "Y_HAT: [0.95 0.1  0.1  0.99 0.98 0.01 0.02 0.01 0.01 0.97 0.05]\n",
      "FPR: [0.   0.17 0.17 0.33 0.5  0.5  1.  ]\n",
      "TPR: [0.2 0.2 0.6 0.8 0.8 1.  1. ]\n",
      "thresholds: [0.99 0.98 0.95 0.1  0.05 0.02 0.01]\n",
      "Optimal threshold index: 5\n",
      "Optimal threshold value: 0.02\n",
      "AUC: 0.7833333333333333\n"
     ]
    }
   ],
   "source": [
    "# E:\\Arnab Docs\\Machine Learning\\ROC AUC\\ROC AUC Calculations.xlsx\n",
    "import numpy as np\n",
    "import matplotlib.pyplot as plt\n",
    "from itertools import cycle\n",
    "\n",
    "from sklearn import svm, datasets\n",
    "from sklearn.metrics import roc_curve, auc\n",
    "from sklearn.model_selection import train_test_split\n",
    "from sklearn.preprocessing import label_binarize\n",
    "from sklearn.multiclass import OneVsRestClassifier\n",
    "from scipy import interp\n",
    "\n",
    "# Compute ROC curve and ROC area for each class\n",
    "fpr, tpr, thresholds = roc_curve(y, y_hat)\n",
    "\n",
    "# Compute Area Under the Curve (AUC) using the trapezoidal rule\n",
    "roc_auc = auc(fpr, tpr)\n",
    "print(f\"Y: {y}\")\n",
    "print(f\"Y_HAT: {y_hat}\")\n",
    "print(f\"FPR: {fpr}\")\n",
    "print(f\"TPR: {tpr}\")\n",
    "print(f\"thresholds: {thresholds}\")\n",
    "print (F\"Optimal threshold index: {np.argmax(tpr - fpr)}\")\n",
    "print (F\"Optimal threshold value: {thresholds[np.argmax(tpr - fpr)]}\")\n",
    "print(f\"AUC: {roc_auc}\")"
   ]
  },
  {
   "cell_type": "code",
   "execution_count": 99,
   "metadata": {},
   "outputs": [
    {
     "data": {
      "image/png": "[encoded data removed]",
      "text/plain": [
       "<Figure size 432x288 with 1 Axes>"
      ]
     },
     "metadata": {
      "needs_background": "light"
     },
     "output_type": "display_data"
    }
   ],
   "source": [
    "plt.figure()\n",
    "lw = 2\n",
    "plt.plot(fpr, tpr, color = 'darkorange',\n",
    "         lw = lw, label = 'ROC curve (area = %0.2f)' % roc_auc)\n",
    "plt.plot([0, 1], [0, 1], color = 'navy', lw = lw, linestyle = '--')\n",
    "plt.xlim([0.0, 1.0])\n",
    "plt.ylim([0.0, 1.05])\n",
    "plt.xlabel('False Positive Rate')\n",
    "plt.ylabel('True Positive Rate')\n",
    "plt.title('Receiver operating characteristic')\n",
    "plt.legend(loc = \"lower right\")\n",
    "plt.show()"
   ]
  },
  {
   "cell_type": "code",
   "execution_count": 100,
   "metadata": {},
   "outputs": [
    {
     "name": "stdout",
     "output_type": "stream",
     "text": [
      "FPR: [0.   0.17 0.17 0.33 0.5  0.5  1.  ]\n",
      "TPR: [0.2 0.2 0.6 0.8 0.8 1.  1. ]\n",
      "thresholds: [0.99 0.98 0.95 0.1  0.05 0.02 0.01]\n"
     ]
    }
   ],
   "source": [
    "print(f\"FPR: {fpr}\")\n",
    "print(f\"TPR: {tpr}\")\n",
    "print(f\"thresholds: {thresholds}\")"
   ]
  },
  {
   "cell_type": "markdown",
   "metadata": {},
   "source": [
    "In general, a ROC chart with a large amount of space below the curve is desirable. Below 0.5 is a very bad model and the closer to 1.0 you can go (without overfitting) the better."
   ]
  },
  {
   "cell_type": "markdown",
   "metadata": {},
   "source": [
    "## Decile Analysis\n",
    "Decile analysis or top 10% scoring looks at the distribution of positive values among 10 bins. Sort the predicted probabilities from highest to lowest and determine the percent of each bin that are positively scored outcomes. The higher bins should have higher percents and the lower scores should have lower. The percent for the top bin can be used as a score."
   ]
  },
  {
   "cell_type": "code",
   "execution_count": 101,
   "metadata": {},
   "outputs": [],
   "source": [
    "y = np.array(binary_classification_y)\n",
    "y_hat = np.array(binary_classification_yhat)"
   ]
  },
  {
   "cell_type": "code",
   "execution_count": 102,
   "metadata": {},
   "outputs": [
    {
     "name": "stdout",
     "output_type": "stream",
     "text": [
      "[0.99 0.09 0.16 0.99 0.96 0.01 0.18 0.09 0.01 0.99 0.01 0.9  0.12 0.01\n",
      " 0.82 0.92 0.01 0.05 0.01 0.01 0.99 0.03 0.96 0.01 0.05 0.99 0.86 0.05\n",
      " 0.01 0.01 0.01 0.99 0.05 0.84 0.18 0.01 0.99 0.78 0.01 0.04 0.08 0.03\n",
      " 0.96 0.02] 44\n"
     ]
    }
   ],
   "source": [
    "# Increase size and add a little noise\n",
    "np.random.seed(42)\n",
    "y = np.concatenate([y, y, y, y])\n",
    "y_hat = np.concatenate([y_hat, y_hat, y_hat, y_hat])\n",
    "y_hat = y_hat + np.random.normal(size = len(y_hat)) / 10\n",
    "y_hat = np.clip(y_hat,0.01,0.99)\n",
    "print(y_hat, len(y_hat))"
   ]
  },
  {
   "cell_type": "code",
   "execution_count": 103,
   "metadata": {},
   "outputs": [
    {
     "data": {
      "text/html": [
       "<div>\n",
       "<style scoped>\n",
       "    .dataframe tbody tr th:only-of-type {\n",
       "        vertical-align: middle;\n",
       "    }\n",
       "\n",
       "    .dataframe tbody tr th {\n",
       "        vertical-align: top;\n",
       "    }\n",
       "\n",
       "    .dataframe thead th {\n",
       "        text-align: right;\n",
       "    }\n",
       "</style>\n",
       "<table border=\"1\" class=\"dataframe\">\n",
       "  <thead>\n",
       "    <tr style=\"text-align: right;\">\n",
       "      <th></th>\n",
       "      <th>y</th>\n",
       "      <th>y_hat</th>\n",
       "      <th>bucket</th>\n",
       "    </tr>\n",
       "  </thead>\n",
       "  <tbody>\n",
       "    <tr>\n",
       "      <th>0</th>\n",
       "      <td>1</td>\n",
       "      <td>0.990000</td>\n",
       "      <td>1</td>\n",
       "    </tr>\n",
       "    <tr>\n",
       "      <th>9</th>\n",
       "      <td>1</td>\n",
       "      <td>0.990000</td>\n",
       "      <td>1</td>\n",
       "    </tr>\n",
       "    <tr>\n",
       "      <th>3</th>\n",
       "      <td>1</td>\n",
       "      <td>0.990000</td>\n",
       "      <td>1</td>\n",
       "    </tr>\n",
       "    <tr>\n",
       "      <th>36</th>\n",
       "      <td>1</td>\n",
       "      <td>0.990000</td>\n",
       "      <td>1</td>\n",
       "    </tr>\n",
       "    <tr>\n",
       "      <th>31</th>\n",
       "      <td>1</td>\n",
       "      <td>0.990000</td>\n",
       "      <td>1</td>\n",
       "    </tr>\n",
       "    <tr>\n",
       "      <th>25</th>\n",
       "      <td>1</td>\n",
       "      <td>0.990000</td>\n",
       "      <td>2</td>\n",
       "    </tr>\n",
       "    <tr>\n",
       "      <th>20</th>\n",
       "      <td>1</td>\n",
       "      <td>0.990000</td>\n",
       "      <td>2</td>\n",
       "    </tr>\n",
       "    <tr>\n",
       "      <th>42</th>\n",
       "      <td>1</td>\n",
       "      <td>0.958435</td>\n",
       "      <td>2</td>\n",
       "    </tr>\n",
       "    <tr>\n",
       "      <th>22</th>\n",
       "      <td>1</td>\n",
       "      <td>0.956753</td>\n",
       "      <td>2</td>\n",
       "    </tr>\n",
       "    <tr>\n",
       "      <th>4</th>\n",
       "      <td>0</td>\n",
       "      <td>0.956585</td>\n",
       "      <td>3</td>\n",
       "    </tr>\n",
       "    <tr>\n",
       "      <th>15</th>\n",
       "      <td>0</td>\n",
       "      <td>0.923771</td>\n",
       "      <td>3</td>\n",
       "    </tr>\n",
       "    <tr>\n",
       "      <th>11</th>\n",
       "      <td>1</td>\n",
       "      <td>0.903427</td>\n",
       "      <td>3</td>\n",
       "    </tr>\n",
       "    <tr>\n",
       "      <th>26</th>\n",
       "      <td>0</td>\n",
       "      <td>0.864901</td>\n",
       "      <td>3</td>\n",
       "    </tr>\n",
       "    <tr>\n",
       "      <th>33</th>\n",
       "      <td>1</td>\n",
       "      <td>0.844229</td>\n",
       "      <td>4</td>\n",
       "    </tr>\n",
       "    <tr>\n",
       "      <th>14</th>\n",
       "      <td>1</td>\n",
       "      <td>0.817508</td>\n",
       "      <td>4</td>\n",
       "    </tr>\n",
       "    <tr>\n",
       "      <th>37</th>\n",
       "      <td>0</td>\n",
       "      <td>0.784033</td>\n",
       "      <td>4</td>\n",
       "    </tr>\n",
       "    <tr>\n",
       "      <th>34</th>\n",
       "      <td>0</td>\n",
       "      <td>0.182254</td>\n",
       "      <td>4</td>\n",
       "    </tr>\n",
       "    <tr>\n",
       "      <th>6</th>\n",
       "      <td>1</td>\n",
       "      <td>0.177921</td>\n",
       "      <td>4</td>\n",
       "    </tr>\n",
       "    <tr>\n",
       "      <th>2</th>\n",
       "      <td>1</td>\n",
       "      <td>0.164769</td>\n",
       "      <td>5</td>\n",
       "    </tr>\n",
       "    <tr>\n",
       "      <th>12</th>\n",
       "      <td>0</td>\n",
       "      <td>0.124196</td>\n",
       "      <td>5</td>\n",
       "    </tr>\n",
       "    <tr>\n",
       "      <th>7</th>\n",
       "      <td>0</td>\n",
       "      <td>0.086743</td>\n",
       "      <td>5</td>\n",
       "    </tr>\n",
       "    <tr>\n",
       "      <th>1</th>\n",
       "      <td>0</td>\n",
       "      <td>0.086174</td>\n",
       "      <td>5</td>\n",
       "    </tr>\n",
       "    <tr>\n",
       "      <th>40</th>\n",
       "      <td>0</td>\n",
       "      <td>0.083847</td>\n",
       "      <td>6</td>\n",
       "    </tr>\n",
       "    <tr>\n",
       "      <th>17</th>\n",
       "      <td>1</td>\n",
       "      <td>0.051425</td>\n",
       "      <td>6</td>\n",
       "    </tr>\n",
       "    <tr>\n",
       "      <th>32</th>\n",
       "      <td>0</td>\n",
       "      <td>0.048650</td>\n",
       "      <td>6</td>\n",
       "    </tr>\n",
       "    <tr>\n",
       "      <th>27</th>\n",
       "      <td>0</td>\n",
       "      <td>0.047570</td>\n",
       "      <td>6</td>\n",
       "    </tr>\n",
       "    <tr>\n",
       "      <th>24</th>\n",
       "      <td>1</td>\n",
       "      <td>0.045562</td>\n",
       "      <td>7</td>\n",
       "    </tr>\n",
       "    <tr>\n",
       "      <th>39</th>\n",
       "      <td>1</td>\n",
       "      <td>0.039686</td>\n",
       "      <td>7</td>\n",
       "    </tr>\n",
       "    <tr>\n",
       "      <th>21</th>\n",
       "      <td>0</td>\n",
       "      <td>0.027422</td>\n",
       "      <td>7</td>\n",
       "    </tr>\n",
       "    <tr>\n",
       "      <th>41</th>\n",
       "      <td>0</td>\n",
       "      <td>0.027137</td>\n",
       "      <td>7</td>\n",
       "    </tr>\n",
       "    <tr>\n",
       "      <th>43</th>\n",
       "      <td>0</td>\n",
       "      <td>0.019890</td>\n",
       "      <td>7</td>\n",
       "    </tr>\n",
       "    <tr>\n",
       "      <th>5</th>\n",
       "      <td>0</td>\n",
       "      <td>0.010000</td>\n",
       "      <td>8</td>\n",
       "    </tr>\n",
       "    <tr>\n",
       "      <th>30</th>\n",
       "      <td>0</td>\n",
       "      <td>0.010000</td>\n",
       "      <td>8</td>\n",
       "    </tr>\n",
       "    <tr>\n",
       "      <th>29</th>\n",
       "      <td>0</td>\n",
       "      <td>0.010000</td>\n",
       "      <td>8</td>\n",
       "    </tr>\n",
       "    <tr>\n",
       "      <th>28</th>\n",
       "      <td>1</td>\n",
       "      <td>0.010000</td>\n",
       "      <td>8</td>\n",
       "    </tr>\n",
       "    <tr>\n",
       "      <th>35</th>\n",
       "      <td>1</td>\n",
       "      <td>0.010000</td>\n",
       "      <td>9</td>\n",
       "    </tr>\n",
       "    <tr>\n",
       "      <th>10</th>\n",
       "      <td>0</td>\n",
       "      <td>0.010000</td>\n",
       "      <td>9</td>\n",
       "    </tr>\n",
       "    <tr>\n",
       "      <th>23</th>\n",
       "      <td>0</td>\n",
       "      <td>0.010000</td>\n",
       "      <td>9</td>\n",
       "    </tr>\n",
       "    <tr>\n",
       "      <th>38</th>\n",
       "      <td>0</td>\n",
       "      <td>0.010000</td>\n",
       "      <td>9</td>\n",
       "    </tr>\n",
       "    <tr>\n",
       "      <th>19</th>\n",
       "      <td>0</td>\n",
       "      <td>0.010000</td>\n",
       "      <td>10</td>\n",
       "    </tr>\n",
       "    <tr>\n",
       "      <th>18</th>\n",
       "      <td>0</td>\n",
       "      <td>0.010000</td>\n",
       "      <td>10</td>\n",
       "    </tr>\n",
       "    <tr>\n",
       "      <th>16</th>\n",
       "      <td>0</td>\n",
       "      <td>0.010000</td>\n",
       "      <td>10</td>\n",
       "    </tr>\n",
       "    <tr>\n",
       "      <th>13</th>\n",
       "      <td>1</td>\n",
       "      <td>0.010000</td>\n",
       "      <td>10</td>\n",
       "    </tr>\n",
       "    <tr>\n",
       "      <th>8</th>\n",
       "      <td>0</td>\n",
       "      <td>0.010000</td>\n",
       "      <td>10</td>\n",
       "    </tr>\n",
       "  </tbody>\n",
       "</table>\n",
       "</div>"
      ],
      "text/plain": [
       "    y     y_hat  bucket\n",
       "0   1  0.990000       1\n",
       "9   1  0.990000       1\n",
       "3   1  0.990000       1\n",
       "36  1  0.990000       1\n",
       "31  1  0.990000       1\n",
       "25  1  0.990000       2\n",
       "20  1  0.990000       2\n",
       "42  1  0.958435       2\n",
       "22  1  0.956753       2\n",
       "4   0  0.956585       3\n",
       "15  0  0.923771       3\n",
       "11  1  0.903427       3\n",
       "26  0  0.864901       3\n",
       "33  1  0.844229       4\n",
       "14  1  0.817508       4\n",
       "37  0  0.784033       4\n",
       "34  0  0.182254       4\n",
       "6   1  0.177921       4\n",
       "2   1  0.164769       5\n",
       "12  0  0.124196       5\n",
       "7   0  0.086743       5\n",
       "1   0  0.086174       5\n",
       "40  0  0.083847       6\n",
       "17  1  0.051425       6\n",
       "32  0  0.048650       6\n",
       "27  0  0.047570       6\n",
       "24  1  0.045562       7\n",
       "39  1  0.039686       7\n",
       "21  0  0.027422       7\n",
       "41  0  0.027137       7\n",
       "43  0  0.019890       7\n",
       "5   0  0.010000       8\n",
       "30  0  0.010000       8\n",
       "29  0  0.010000       8\n",
       "28  1  0.010000       8\n",
       "35  1  0.010000       9\n",
       "10  0  0.010000       9\n",
       "23  0  0.010000       9\n",
       "38  0  0.010000       9\n",
       "19  0  0.010000      10\n",
       "18  0  0.010000      10\n",
       "16  0  0.010000      10\n",
       "13  1  0.010000      10\n",
       "8   0  0.010000      10"
      ]
     },
     "execution_count": 103,
     "metadata": {},
     "output_type": "execute_result"
    }
   ],
   "source": [
    "df = pd.DataFrame({'y':y,'y_hat':y_hat})\n",
    "df.sort_values(by='y_hat',ascending = False, inplace = True)\n",
    "df['bucket'] = pd.qcut(range(len(df)), 10, labels = False) + 1\n",
    "df"
   ]
  },
  {
   "cell_type": "code",
   "execution_count": 104,
   "metadata": {},
   "outputs": [
    {
     "data": {
      "text/html": [
       "<div>\n",
       "<style scoped>\n",
       "    .dataframe tbody tr th:only-of-type {\n",
       "        vertical-align: middle;\n",
       "    }\n",
       "\n",
       "    .dataframe tbody tr th {\n",
       "        vertical-align: top;\n",
       "    }\n",
       "\n",
       "    .dataframe thead th {\n",
       "        text-align: right;\n",
       "    }\n",
       "</style>\n",
       "<table border=\"1\" class=\"dataframe\">\n",
       "  <thead>\n",
       "    <tr style=\"text-align: right;\">\n",
       "      <th></th>\n",
       "      <th>y</th>\n",
       "      <th>count</th>\n",
       "    </tr>\n",
       "    <tr>\n",
       "      <th>bucket</th>\n",
       "      <th></th>\n",
       "      <th></th>\n",
       "    </tr>\n",
       "  </thead>\n",
       "  <tbody>\n",
       "    <tr>\n",
       "      <th>1</th>\n",
       "      <td>5</td>\n",
       "      <td>5.0</td>\n",
       "    </tr>\n",
       "    <tr>\n",
       "      <th>2</th>\n",
       "      <td>4</td>\n",
       "      <td>4.0</td>\n",
       "    </tr>\n",
       "    <tr>\n",
       "      <th>3</th>\n",
       "      <td>1</td>\n",
       "      <td>4.0</td>\n",
       "    </tr>\n",
       "    <tr>\n",
       "      <th>4</th>\n",
       "      <td>3</td>\n",
       "      <td>5.0</td>\n",
       "    </tr>\n",
       "    <tr>\n",
       "      <th>5</th>\n",
       "      <td>1</td>\n",
       "      <td>4.0</td>\n",
       "    </tr>\n",
       "    <tr>\n",
       "      <th>6</th>\n",
       "      <td>1</td>\n",
       "      <td>4.0</td>\n",
       "    </tr>\n",
       "    <tr>\n",
       "      <th>7</th>\n",
       "      <td>2</td>\n",
       "      <td>5.0</td>\n",
       "    </tr>\n",
       "    <tr>\n",
       "      <th>8</th>\n",
       "      <td>1</td>\n",
       "      <td>4.0</td>\n",
       "    </tr>\n",
       "    <tr>\n",
       "      <th>9</th>\n",
       "      <td>1</td>\n",
       "      <td>4.0</td>\n",
       "    </tr>\n",
       "    <tr>\n",
       "      <th>10</th>\n",
       "      <td>1</td>\n",
       "      <td>5.0</td>\n",
       "    </tr>\n",
       "  </tbody>\n",
       "</table>\n",
       "</div>"
      ],
      "text/plain": [
       "        y  count\n",
       "bucket          \n",
       "1       5    5.0\n",
       "2       4    4.0\n",
       "3       1    4.0\n",
       "4       3    5.0\n",
       "5       1    4.0\n",
       "6       1    4.0\n",
       "7       2    5.0\n",
       "8       1    4.0\n",
       "9       1    4.0\n",
       "10      1    5.0"
      ]
     },
     "execution_count": 104,
     "metadata": {},
     "output_type": "execute_result"
    }
   ],
   "source": [
    "df.drop('y_hat', 1, inplace=True)\n",
    "df['count'] = np.ones(len(df))\n",
    "df = df.groupby(by='bucket').sum()\n",
    "df"
   ]
  },
  {
   "cell_type": "code",
   "execution_count": 105,
   "metadata": {},
   "outputs": [
    {
     "data": {
      "text/html": [
       "<div>\n",
       "<style scoped>\n",
       "    .dataframe tbody tr th:only-of-type {\n",
       "        vertical-align: middle;\n",
       "    }\n",
       "\n",
       "    .dataframe tbody tr th {\n",
       "        vertical-align: top;\n",
       "    }\n",
       "\n",
       "    .dataframe thead th {\n",
       "        text-align: right;\n",
       "    }\n",
       "</style>\n",
       "<table border=\"1\" class=\"dataframe\">\n",
       "  <thead>\n",
       "    <tr style=\"text-align: right;\">\n",
       "      <th></th>\n",
       "      <th>tp</th>\n",
       "      <th>count</th>\n",
       "      <th>score</th>\n",
       "    </tr>\n",
       "    <tr>\n",
       "      <th>bucket</th>\n",
       "      <th></th>\n",
       "      <th></th>\n",
       "      <th></th>\n",
       "    </tr>\n",
       "  </thead>\n",
       "  <tbody>\n",
       "    <tr>\n",
       "      <th>1</th>\n",
       "      <td>5</td>\n",
       "      <td>5.0</td>\n",
       "      <td>1.00</td>\n",
       "    </tr>\n",
       "    <tr>\n",
       "      <th>2</th>\n",
       "      <td>4</td>\n",
       "      <td>4.0</td>\n",
       "      <td>1.00</td>\n",
       "    </tr>\n",
       "    <tr>\n",
       "      <th>3</th>\n",
       "      <td>1</td>\n",
       "      <td>4.0</td>\n",
       "      <td>0.25</td>\n",
       "    </tr>\n",
       "    <tr>\n",
       "      <th>4</th>\n",
       "      <td>3</td>\n",
       "      <td>5.0</td>\n",
       "      <td>0.60</td>\n",
       "    </tr>\n",
       "    <tr>\n",
       "      <th>5</th>\n",
       "      <td>1</td>\n",
       "      <td>4.0</td>\n",
       "      <td>0.25</td>\n",
       "    </tr>\n",
       "    <tr>\n",
       "      <th>6</th>\n",
       "      <td>1</td>\n",
       "      <td>4.0</td>\n",
       "      <td>0.25</td>\n",
       "    </tr>\n",
       "    <tr>\n",
       "      <th>7</th>\n",
       "      <td>2</td>\n",
       "      <td>5.0</td>\n",
       "      <td>0.40</td>\n",
       "    </tr>\n",
       "    <tr>\n",
       "      <th>8</th>\n",
       "      <td>1</td>\n",
       "      <td>4.0</td>\n",
       "      <td>0.25</td>\n",
       "    </tr>\n",
       "    <tr>\n",
       "      <th>9</th>\n",
       "      <td>1</td>\n",
       "      <td>4.0</td>\n",
       "      <td>0.25</td>\n",
       "    </tr>\n",
       "    <tr>\n",
       "      <th>10</th>\n",
       "      <td>1</td>\n",
       "      <td>5.0</td>\n",
       "      <td>0.20</td>\n",
       "    </tr>\n",
       "  </tbody>\n",
       "</table>\n",
       "</div>"
      ],
      "text/plain": [
       "        tp  count  score\n",
       "bucket                  \n",
       "1        5    5.0   1.00\n",
       "2        4    4.0   1.00\n",
       "3        1    4.0   0.25\n",
       "4        3    5.0   0.60\n",
       "5        1    4.0   0.25\n",
       "6        1    4.0   0.25\n",
       "7        2    5.0   0.40\n",
       "8        1    4.0   0.25\n",
       "9        1    4.0   0.25\n",
       "10       1    5.0   0.20"
      ]
     },
     "execution_count": 105,
     "metadata": {},
     "output_type": "execute_result"
    }
   ],
   "source": [
    "df['score'] = df['y'].values / df['count'].values\n",
    "df.columns = ['tp','count','score']\n",
    "df"
   ]
  },
  {
   "cell_type": "code",
   "execution_count": 106,
   "metadata": {},
   "outputs": [
    {
     "data": {
      "text/plain": [
       "<matplotlib.axes._subplots.AxesSubplot at 0x9f9d41a390>"
      ]
     },
     "execution_count": 106,
     "metadata": {},
     "output_type": "execute_result"
    },
    {
     "data": {
      "image/png": "[encoded data removed]",
      "text/plain": [
       "<Figure size 432x288 with 1 Axes>"
      ]
     },
     "metadata": {
      "needs_background": "light"
     },
     "output_type": "display_data"
    }
   ],
   "source": [
    "df.drop('count', 1, inplace=True)\n",
    "df.drop('tp', 1, inplace=True)\n",
    "df.plot(kind = \"bar\")"
   ]
  },
  {
   "cell_type": "markdown",
   "metadata": {},
   "source": [
    "## Regression Chart\n",
    "The regression or lift chart can be drawn in various ways. Presented here is a monotonically increasing plot of the expected values with the predicted values. Ideally, the two lines would overlap. However, they can show a model's tendency to over or under predict."
   ]
  },
  {
   "cell_type": "markdown",
   "metadata": {},
   "source": [
    "### Regression Data"
   ]
  },
  {
   "cell_type": "markdown",
   "metadata": {},
   "source": [
    "Regression data is used when you wish to predict a number. The data below shows the expected values for $y$ as a floating point number. The predicted $\\hat{y}$ should match the $y$ values as close as possible."
   ]
  },
  {
   "cell_type": "code",
   "execution_count": 107,
   "metadata": {},
   "outputs": [
    {
     "data": {
      "text/html": [
       "<div>\n",
       "<style scoped>\n",
       "    .dataframe tbody tr th:only-of-type {\n",
       "        vertical-align: middle;\n",
       "    }\n",
       "\n",
       "    .dataframe tbody tr th {\n",
       "        vertical-align: top;\n",
       "    }\n",
       "\n",
       "    .dataframe thead th {\n",
       "        text-align: right;\n",
       "    }\n",
       "</style>\n",
       "<table border=\"1\" class=\"dataframe\">\n",
       "  <thead>\n",
       "    <tr style=\"text-align: right;\">\n",
       "      <th></th>\n",
       "      <th>y</th>\n",
       "      <th>yhat</th>\n",
       "    </tr>\n",
       "  </thead>\n",
       "  <tbody>\n",
       "    <tr>\n",
       "      <th>0</th>\n",
       "      <td>1.20</td>\n",
       "      <td>1.30</td>\n",
       "    </tr>\n",
       "    <tr>\n",
       "      <th>1</th>\n",
       "      <td>2.20</td>\n",
       "      <td>2.90</td>\n",
       "    </tr>\n",
       "    <tr>\n",
       "      <th>2</th>\n",
       "      <td>3.00</td>\n",
       "      <td>3.10</td>\n",
       "    </tr>\n",
       "    <tr>\n",
       "      <th>3</th>\n",
       "      <td>2.10</td>\n",
       "      <td>2.20</td>\n",
       "    </tr>\n",
       "    <tr>\n",
       "      <th>4</th>\n",
       "      <td>3.50</td>\n",
       "      <td>3.50</td>\n",
       "    </tr>\n",
       "    <tr>\n",
       "      <th>5</th>\n",
       "      <td>3.30</td>\n",
       "      <td>3.30</td>\n",
       "    </tr>\n",
       "    <tr>\n",
       "      <th>6</th>\n",
       "      <td>1.20</td>\n",
       "      <td>1.10</td>\n",
       "    </tr>\n",
       "    <tr>\n",
       "      <th>7</th>\n",
       "      <td>1.20</td>\n",
       "      <td>1.30</td>\n",
       "    </tr>\n",
       "    <tr>\n",
       "      <th>8</th>\n",
       "      <td>0.10</td>\n",
       "      <td>7.20</td>\n",
       "    </tr>\n",
       "    <tr>\n",
       "      <th>9</th>\n",
       "      <td>1.00</td>\n",
       "      <td>1.00</td>\n",
       "    </tr>\n",
       "    <tr>\n",
       "      <th>10</th>\n",
       "      <td>0.05</td>\n",
       "      <td>0.07</td>\n",
       "    </tr>\n",
       "  </tbody>\n",
       "</table>\n",
       "</div>"
      ],
      "text/plain": [
       "       y  yhat\n",
       "0   1.20  1.30\n",
       "1   2.20  2.90\n",
       "2   3.00  3.10\n",
       "3   2.10  2.20\n",
       "4   3.50  3.50\n",
       "5   3.30  3.30\n",
       "6   1.20  1.10\n",
       "7   1.20  1.30\n",
       "8   0.10  7.20\n",
       "9   1.00  1.00\n",
       "10  0.05  0.07"
      ]
     },
     "execution_count": 107,
     "metadata": {},
     "output_type": "execute_result"
    }
   ],
   "source": [
    "# Regression\n",
    "regression_y    = [ 1.2, 2.2, 3.0, 2.1, 3.5, 3.3, 1.2, 1.2, 0.1, 1, 0.05]\n",
    "regression_yhat = [ 1.3, 2.9, 3.1, 2.2, 3.5, 3.3, 1.1, 1.3, 7.2, 1, 0.07]\n",
    "regression = pd.DataFrame({'y': regression_y, 'yhat': regression_yhat})\n",
    "regression"
   ]
  },
  {
   "cell_type": "code",
   "execution_count": 108,
   "metadata": {},
   "outputs": [],
   "source": [
    "y = np.array(regression_y)\n",
    "y_hat = np.array(regression_yhat)"
   ]
  },
  {
   "cell_type": "code",
   "execution_count": 109,
   "metadata": {},
   "outputs": [],
   "source": [
    "# Regression chart.\n",
    "def chart_regression(pred, y, sort = True):\n",
    "    t = pd.DataFrame({'pred': pred, 'y': y.flatten()})\n",
    "    if sort:\n",
    "        t.sort_values(by=['y'], inplace = True)\n",
    "    plt.plot(t['y'].tolist(), label = 'expected')\n",
    "    plt.plot(t['pred'].tolist(), label = 'prediction')\n",
    "    plt.ylabel('output')\n",
    "    plt.legend()\n",
    "    plt.show()"
   ]
  },
  {
   "cell_type": "code",
   "execution_count": 110,
   "metadata": {},
   "outputs": [
    {
     "data": {
      "image/png": "[encoded data removed]",
      "text/plain": [
       "<Figure size 432x288 with 1 Axes>"
      ]
     },
     "metadata": {
      "needs_background": "light"
     },
     "output_type": "display_data"
    }
   ],
   "source": [
    "chart_regression(y_hat, y)"
   ]
  },
  {
   "cell_type": "markdown",
   "metadata": {},
   "source": [
    "## Log Loss"
   ]
  },
  {
   "cell_type": "markdown",
   "metadata": {},
   "source": [
    "Log loss can measure single or multi-classification. Lower values are good, higher values are bad. The best possible score is 0 and scores above 2-3 are generally bad. Log-loss penalizes over confidence.\n",
    "\n",
    "Single:\n",
    "\n",
    "$ \\text{log loss} = -{(y\\log(\\hat{y}) + (1 - y)\\log(1 - \\hat{y}))} $\n",
    "\n",
    "Multi-class:\n",
    "\n",
    "$ \\text{log loss} = -\\frac{1}{N}\\sum_{i=1}^N {( {y}_i\\log(\\hat{y}_i) + (1 - {y}_i)\\log(1 - \\hat{y}_i))} $"
   ]
  },
  {
   "cell_type": "code",
   "execution_count": 111,
   "metadata": {},
   "outputs": [
    {
     "data": {
      "image/png": "[encoded data removed]",
      "text/plain": [
       "<Figure size 864x720 with 1 Axes>"
      ]
     },
     "metadata": {
      "needs_background": "light"
     },
     "output_type": "display_data"
    }
   ],
   "source": [
    "t = arange(1e-6, 1.0, 0.00001)  \n",
    "\n",
    "fig = figure(1, figsize=(12, 10))\n",
    "\n",
    "ax1 = fig.add_subplot(211)\n",
    "ax1.plot(t, np.log(t))\n",
    "ax1.grid(True)\n",
    "ax1.set_ylim((-8, 1.5))\n",
    "ax1.set_xlim((-0.1, 2))\n",
    "ax1.set_xlabel('x')\n",
    "ax1.set_ylabel('y')\n",
    "ax1.set_title('log(x)')\n",
    "\n",
    "show()"
   ]
  },
  {
   "cell_type": "code",
   "execution_count": 112,
   "metadata": {},
   "outputs": [],
   "source": [
    "y = np.array(binary_classification_y)\n",
    "y_hat = np.array(binary_classification_yhat)"
   ]
  },
  {
   "cell_type": "code",
   "execution_count": 113,
   "metadata": {},
   "outputs": [
    {
     "name": "stdout",
     "output_type": "stream",
     "text": [
      "Log loss: 0.9459307962892708\n"
     ]
    }
   ],
   "source": [
    "llos = metrics.log_loss(y, y_hat)\n",
    "print(f\"Log loss: {llos}\")"
   ]
  },
  {
   "cell_type": "code",
   "execution_count": 114,
   "metadata": {},
   "outputs": [
    {
     "name": "stdout",
     "output_type": "stream",
     "text": [
      "Perfect score (1.0): 0.0\n",
      "95% Prediction on True : -0.05129329438755058\n",
      "90% Prediction on True : -0.10536051565782628\n",
      "85% Prediction on True : -0.16251892949777494\n",
      "80% Prediction on True : -0.2231435513142097\n",
      "75% Prediction on True : -0.2876820724517809\n",
      "70% Prediction on True : -0.35667494393873245\n",
      "65% Prediction on True : -0.4307829160924542\n",
      "60% Prediction on True : -0.5108256237659907\n",
      "55% Prediction on True : -0.5978370007556204\n",
      "40% Prediction on True : -0.916290731874155\n",
      "30% Prediction on True : -1.2039728043259361\n",
      "10% Prediction on True : -2.3025850929940455\n",
      "1% Prediction on True : -4.605170185988091\n",
      "0.001% Prediction on True : -6.907755278982137\n"
     ]
    }
   ],
   "source": [
    "# What is a good log loss?\n",
    "print(f\"Perfect score (1.0): {np.log(1.0)}\")\n",
    "print(f\"95% Prediction on True : {np.log(0.95)}\")\n",
    "print(f\"90% Prediction on True : {np.log(0.90)}\")\n",
    "print(f\"85% Prediction on True : {np.log(0.85)}\")\n",
    "print(f\"80% Prediction on True : {np.log(0.80)}\")\n",
    "print(f\"75% Prediction on True : {np.log(0.75)}\")\n",
    "print(f\"70% Prediction on True : {np.log(0.70)}\")\n",
    "print(f\"65% Prediction on True : {np.log(0.65)}\")\n",
    "print(f\"60% Prediction on True : {np.log(0.60)}\")\n",
    "print(f\"55% Prediction on True : {np.log(0.55)}\")\n",
    "print(f\"40% Prediction on True : {np.log(0.4)}\")\n",
    "print(f\"30% Prediction on True : {np.log(0.3)}\")\n",
    "print(f\"10% Prediction on True : {np.log(0.1)}\")\n",
    "print(f\"1% Prediction on True : {np.log(0.01)}\")\n",
    "print(f\"0.001% Prediction on True : {np.log(0.001)}\")"
   ]
  },
  {
   "cell_type": "code",
   "execution_count": 115,
   "metadata": {},
   "outputs": [
    {
     "data": {
      "text/plain": [
       "[(1, 0.95),\n",
       " (0, 0.1),\n",
       " (1, 0.1),\n",
       " (1, 0.99),\n",
       " (0, 0.98),\n",
       " (0, 0.01),\n",
       " (1, 0.02),\n",
       " (0, 0.01),\n",
       " (0, 0.01),\n",
       " (1, 0.97),\n",
       " (0, 0.05)]"
      ]
     },
     "execution_count": 115,
     "metadata": {},
     "output_type": "execute_result"
    }
   ],
   "source": [
    "list(zip(y, y_hat))"
   ]
  },
  {
   "cell_type": "markdown",
   "metadata": {},
   "source": [
    "## R<sup>2</sup>\n",
    "R<sup>2</sup> is a value that measures the goodness of fit. They typically range between 0 and 1 and are often written as percentages. Particularly bad R2 values can be negative."
   ]
  },
  {
   "cell_type": "code",
   "execution_count": 116,
   "metadata": {},
   "outputs": [
    {
     "name": "stdout",
     "output_type": "stream",
     "text": [
      "[1.2  2.2  3.   2.1  3.5  3.3  1.2  1.2  0.1  1.   0.05] 11\n",
      "[1.3  2.9  3.1  2.2  3.5  3.3  1.1  1.3  7.2  1.   0.07] 11\n"
     ]
    }
   ],
   "source": [
    "y = np.array(regression_y)\n",
    "y_hat = np.array(regression_yhat)\n",
    "print (y, len(y))\n",
    "print (y_hat, len(y_hat))"
   ]
  },
  {
   "cell_type": "markdown",
   "metadata": {},
   "source": [
    "(from Wikipedia) If $\\bar{y}$ is the mean of the observed data:\n",
    "\n",
    "$\\bar{y}=\\frac{1}{n}\\sum_{i=1}^n y_i$\n",
    "\n",
    "then the variability of the data set can be measured using three Mean squared error formulas:\n",
    "\n",
    "The total sum of squares (proportional to the variance of the data $SS_\\text{tot}=\\sum_i (y_i-\\bar{y})^2,$\n",
    "The regression sum of squares, also called the explained sum of squares:\n",
    "$SS_\\text{reg}=\\sum_i (f_i -\\bar{y})^2,$\n",
    "The sum of squares of residuals, also called the residual sum of squares:\n",
    "$SS_\\text{res}=\\sum_i (y_i - f_i)^2=\\sum_i e_i^2\\,$\n",
    "The most general definition of the coefficient of determination is\n",
    "\n",
    ":$R^2 \\equiv 1 - {SS_{\\rm res}\\over SS_{\\rm tot}} \\,$"
   ]
  },
  {
   "cell_type": "code",
   "execution_count": 117,
   "metadata": {},
   "outputs": [
    {
     "name": "stdout",
     "output_type": "stream",
     "text": [
      "R2 Score: -2.5332034672970853\n",
      "[(1.2, 1.3), (2.2, 2.9), (3.0, 3.1), (2.1, 2.2), (3.5, 3.5), (3.3, 3.3), (1.2, 1.1), (1.2, 1.3), (0.1, 7.2), (1.0, 1.0), (0.05, 0.07)]\n"
     ]
    }
   ],
   "source": [
    "r2 = metrics.r2_score(y, y_hat)\n",
    "print(f\"R2 Score: {r2}\")\n",
    "print(list(zip(y, y_hat)))"
   ]
  },
  {
   "cell_type": "markdown",
   "metadata": {},
   "source": [
    "## RMSE and MSE\n",
    "Mean square error and root mean square error are used to measure regression. MSE is simply a value where higher values indicate a worse model. MSE is not in the same units as $y$, whereas RMSE is in the same units. RMSE will not be negative and a value of 10 would mean that the errors are generally +/- 10 units."
   ]
  },
  {
   "cell_type": "code",
   "execution_count": 118,
   "metadata": {},
   "outputs": [],
   "source": [
    "y = np.array(regression_y)\n",
    "y_hat = np.array(regression_yhat)"
   ]
  },
  {
   "cell_type": "markdown",
   "metadata": {},
   "source": [
    "\n",
    "$ \\text{MSE} = \\frac{1}{n} \\sum_{i=1}^n \\left(\\hat{y}_i - y_i\\right)^2 $"
   ]
  },
  {
   "cell_type": "code",
   "execution_count": 119,
   "metadata": {},
   "outputs": [
    {
     "name": "stdout",
     "output_type": "stream",
     "text": [
      "Score (MSE): 4.631854545454546\n"
     ]
    }
   ],
   "source": [
    "mse = metrics.mean_squared_error(y_hat, y)\n",
    "print(\"Score (MSE): {}\".format(mse))"
   ]
  },
  {
   "cell_type": "markdown",
   "metadata": {},
   "source": [
    "\n",
    "$ \\text{RMSE} = \\sqrt{\\frac{1}{n} \\sum_{i=1}^n \\left(\\hat{y}_i - y_i\\right)^2} $"
   ]
  },
  {
   "cell_type": "code",
   "execution_count": 120,
   "metadata": {},
   "outputs": [
    {
     "name": "stdout",
     "output_type": "stream",
     "text": [
      "Score (RMSE): 2.1521743761727454\n"
     ]
    }
   ],
   "source": [
    "rmse = np.sqrt(mse)\n",
    "print(\"Score (RMSE): {}\".format(np.sqrt(mse)))"
   ]
  },
  {
   "cell_type": "code",
   "execution_count": null,
   "metadata": {},
   "outputs": [],
   "source": []
  }
 ],
 "metadata": {
  "kernelspec": {
   "display_name": "Python 3",
   "language": "python",
   "name": "python3"
  },
  "language_info": {
   "codemirror_mode": {
    "name": "ipython",
    "version": 3
   },
   "file_extension": ".py",
   "mimetype": "text/x-python",
   "name": "python",
   "nbconvert_exporter": "python",
   "pygments_lexer": "ipython3",
   "version": "3.9.1"
  }
 },
 "nbformat": 4,
 "nbformat_minor": 4
}
